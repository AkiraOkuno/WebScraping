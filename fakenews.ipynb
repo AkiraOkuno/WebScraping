{
 "cells": [
  {
   "cell_type": "code",
   "execution_count": 6,
   "metadata": {
    "collapsed": true
   },
   "outputs": [],
   "source": [
    "from bs4 import BeautifulSoup\n",
    "from urllib.request import urlopen\n",
    "from selenium import webdriver\n",
    "import os\n",
    "import re\n",
    "import time\n",
    "import pandas as pd"
   ]
  },
  {
   "cell_type": "code",
   "execution_count": 3,
   "metadata": {},
   "outputs": [],
   "source": [
    "def bs_driver(path_to_driver, url):\n",
    "    driver = webdriver.PhantomJS(executable_path=path_to_driver)\n",
    "    driver.get(url)\n",
    "    source = driver.page_source\n",
    "    return BeautifulSoup(source, 'html.parser')"
   ]
  },
  {
   "cell_type": "code",
   "execution_count": 106,
   "metadata": {
    "collapsed": true
   },
   "outputs": [],
   "source": [
    "lista_link = []\n",
    "lista_titulo = []\n",
    "lista_tema = []"
   ]
  },
  {
   "cell_type": "code",
   "execution_count": 118,
   "metadata": {},
   "outputs": [],
   "source": [
    "path = r'C:\\Users\\Helio\\Documents\\ALL THAT MATTERS\\DATACLUB\\Projetos\\IC\\datas.txt'\n",
    "dates = pd.read_csv(path, header=None, encoding=\"ISO-8859-1\", sep=',')"
   ]
  },
  {
   "cell_type": "code",
   "execution_count": 128,
   "metadata": {},
   "outputs": [],
   "source": [
    "for date in dates.iloc[:,0]:\n",
    "    i=1\n",
    "    while True:\n",
    "            a = bs_driver(r'C:\\\\Users\\\\Helio\\\\Documents\\\\ALL THAT MATTERS\\\\DATACLUB\\\\phantomjs-2.1.1-windows\\\\bin\\\\phantomjs.exe',\n",
    "                      r'http://www.boatos.org/' + date + '/page/' + str(i))\n",
    "            try:\n",
    "                re.search('Ops!',str(a)).start() \n",
    "                break\n",
    "            except:\n",
    "                for x in a.findAll('h2',{'class':'entry-title'}):\n",
    "                    s = str(x)\n",
    "\n",
    "                    #achar link da noticia\n",
    "                    a_pattern = r'www.(\\w|\\W){1,1000}.html'\n",
    "                    regex = re.search(a_pattern, s)\n",
    "                    link = s[regex.start():regex.end()]\n",
    "                    lista_link.append(link)\n",
    "\n",
    "                    #achar titulo da noticia\n",
    "                    lista_titulo.append(x.getText())\n",
    "\n",
    "                    #achar tema da noticia\n",
    "                    theme_pattern = r'org/(\\w|\\W){1,1000}/'\n",
    "                    regex_theme = re.search(theme_pattern, link)\n",
    "                    lista_tema.append(link[regex_theme.start():regex_theme.end()][4:-1])\n",
    "\n",
    "                i+=1"
   ]
  },
  {
   "cell_type": "code",
   "execution_count": 137,
   "metadata": {},
   "outputs": [],
   "source": [
    "df = pd.DataFrame()\n",
    "df['Título da Notícia'] = lista_titulo\n",
    "df['Tema'] = lista_tema\n",
    "df['URL'] = lista_link"
   ]
  },
  {
   "cell_type": "code",
   "execution_count": 138,
   "metadata": {},
   "outputs": [],
   "source": [
    "df.to_csv('Boatos.org')"
   ]
  }
 ],
 "metadata": {
  "kernelspec": {
   "display_name": "Python 3",
   "language": "python",
   "name": "python3"
  },
  "language_info": {
   "codemirror_mode": {
    "name": "ipython",
    "version": 3
   },
   "file_extension": ".py",
   "mimetype": "text/x-python",
   "name": "python",
   "nbconvert_exporter": "python",
   "pygments_lexer": "ipython3",
   "version": "3.6.4"
  }
 },
 "nbformat": 4,
 "nbformat_minor": 2
}
