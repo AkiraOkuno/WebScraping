{
 "cells": [
  {
   "cell_type": "code",
   "execution_count": 20,
   "metadata": {
    "collapsed": true
   },
   "outputs": [],
   "source": [
    "from bs4 import BeautifulSoup\n",
    "from selenium import webdriver\n",
    "import time\n",
    "from selenium.webdriver.common.by import By\n",
    "from selenium.webdriver.support.ui import WebDriverWait\n",
    "from selenium.webdriver.support import expected_conditions as EC\n",
    "import re"
   ]
  },
  {
   "cell_type": "code",
   "execution_count": 5,
   "metadata": {},
   "outputs": [],
   "source": [
    "path = r\"C:\\Users\\Helio\\Documents\\EESP DATA\\phantomjs-2.1.1-windows\\bin\\phantomjs.exe\"\n",
    "driver = webdriver.PhantomJS(executable_path=path)\n",
    "driver.get(\"https://www.tripadvisor.com.br/Restaurant_Review-g297701-d8734506-Reviews-or20-Abangan_Restaurant-Ubud_Bali.html\")"
   ]
  },
  {
   "cell_type": "code",
   "execution_count": 6,
   "metadata": {
    "collapsed": true
   },
   "outputs": [],
   "source": [
    "driver.find_element_by_css_selector(\"span.taLnk.ulBlueLinks\").click()\n",
    "time.sleep(2)\n",
    "\n",
    "pageSource = driver.page_source\n"
   ]
  },
  {
   "cell_type": "code",
   "execution_count": 12,
   "metadata": {},
   "outputs": [],
   "source": [
    "bsObj = BeautifulSoup(pageSource, \"html.parser\")\n",
    "comments = bsObj.findAll(\"p\",{\"class\":\"partial_entry\"})\n",
    "\n",
    "comentarios =[]\n",
    "\n",
    "for comment in comments:\n",
    "    com = comment.getText()\n",
    "    comentarios.append(com)"
   ]
  },
  {
   "cell_type": "code",
   "execution_count": 16,
   "metadata": {},
   "outputs": [],
   "source": [
    "final_page = bsObj.find(\"span\",{\"class\":\"pageNum last taLnk \"}).getText()\n",
    "final_page = int(final_page)"
   ]
  },
  {
   "cell_type": "code",
   "execution_count": 18,
   "metadata": {},
   "outputs": [],
   "source": [
    "comentarios = []\n",
    "\n",
    "for i in range(0, final_page):\n",
    "    url = \"https://www.tripadvisor.com.br/Restaurant_Review-g297701-d8734506-Reviews-or\"+str(final_page)+(\"0-Abangan_Restaurant-Ubud_Bali.html\")\n",
    "    driver.get(url)\n",
    "    \n",
    "    driver.find_element_by_css_selector(\"span.taLnk.ulBlueLinks\").click()\n",
    "    time.sleep(2)\n",
    "\n",
    "    pageSource = driver.page_source\n",
    "    bsObj = BeautifulSoup(pageSource, \"html.parser\")\n",
    "    comments = bsObj.findAll(\"p\",{\"class\":\"partial_entry\"})\n",
    "    \n",
    "    for comment in comments:\n",
    "        com = comment.getText()\n",
    "        comentarios.append(com)"
   ]
  }
 ],
 "metadata": {
  "kernelspec": {
   "display_name": "Python 3",
   "language": "python",
   "name": "python3"
  },
  "language_info": {
   "codemirror_mode": {
    "name": "ipython",
    "version": 3
   },
   "file_extension": ".py",
   "mimetype": "text/x-python",
   "name": "python",
   "nbconvert_exporter": "python",
   "pygments_lexer": "ipython3",
   "version": "3.6.1"
  }
 },
 "nbformat": 4,
 "nbformat_minor": 2
}
