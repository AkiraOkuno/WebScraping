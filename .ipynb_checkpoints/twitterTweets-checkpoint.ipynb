{
 "cells": [
  {
   "cell_type": "code",
   "execution_count": 2,
   "metadata": {
    "collapsed": true
   },
   "outputs": [],
   "source": [
    "from bs4 import BeautifulSoup\n",
    "from urllib.request import urlopen\n",
    "\n",
    "#open tag search url and transform into beatiful soup object\n",
    "def bs(tag):\n",
    "    html = urlopen(\"https://twitter.com/search?q=%23\"+ tag + \"&src=typd\")\n",
    "    bsObj = BeautifulSoup(html.read(), \"html.parser\")\n",
    "    return(bsObj)"
   ]
  },
  {
   "cell_type": "code",
   "execution_count": 35,
   "metadata": {},
   "outputs": [],
   "source": [
    "#gets last n tweets with the previous tag\n",
    "\n",
    "def tweetsGet(bsObj, n):\n",
    "    tweetsList = bsObj.findAll(\"p\", {\"class\":\"TweetTextSize js-tweet-text tweet-text\"}, limit = n)\n",
    "    tweets = []\n",
    "    for tweet in tweetsList:\n",
    "        tweets.append(tweet.getText())\n",
    "\n",
    "    #eliminates undesirable pic.twitter.com/whatever\n",
    "    tweets_clean = []\n",
    "    for tweet in tweets:\n",
    "        if tweet.find('pic.twitter') != -1:\n",
    "            position = tweet.find('pic.twitter')\n",
    "            tweet_clean = tweet[0:position]\n",
    "            tweets_clean.append(tweet_clean)\n",
    "        else:\n",
    "            tweets_clean.append(tweet)\n",
    "    \n",
    "    return(tweets_clean)\n",
    "        "
   ]
  },
  {
   "cell_type": "code",
   "execution_count": 38,
   "metadata": {
    "collapsed": true
   },
   "outputs": [],
   "source": [
    "def twitterTweets(tag, n):\n",
    "    bsObj = bs(tag)\n",
    "    tt = tweetsGet(bsObj, n)\n",
    "    return(tt)"
   ]
  },
  {
   "cell_type": "code",
   "execution_count": 42,
   "metadata": {},
   "outputs": [
    {
     "data": {
      "text/plain": [
       "['Homemade #Apple Crisp #Recipe \\n Viral Leaks Zone - http://www.viralleakszone.com/homemade-apple-crisp-recipe/\\xa0… #AppleCrisp apple, apple crisp, recipe ...',\n",
       " 'Golpe com a conta do #iCloud... #Apple #iPhone',\n",
       " 'Pink Floyd Animals: Vitória do Livre Mercado http://dlvr.it/Phdt9S\\xa0 #pinkfloyd #pinkfloydanimals #apple #battersea #thefarm #georgeorwell',\n",
       " \"Fome #Apple novo e ainda por cima de Graça, graças a garantia de 1 ano '\",\n",
       " 'O impacto da Inteligência Artificial no futuro das ações https://janusinvestimentos.com/outras-ideias-para-investir/o-impacto-da-inteligencia-artificial-no-futuro-das-acoes/\\xa0… #google #apple #facebook #microsoft #tesla #AI',\n",
       " '¡Cuidado! Alertan sobre correo falso de #Apple para cometer fraude https://goo.gl/5XCuW3\\xa0',\n",
       " 'A new era. #apple #new',\n",
       " '#Apple pode investir US$1 bilhão em produções audiovisuais em 2018! https://goo.gl/3NSP7T\\xa0',\n",
       " '#iPhone SE Rosa Dourado, com Tela de 4”, 4G, 16 GB e Câmera de 12 MP - MLXN2BR/A - AEMLXN2BRARSA http://compre.vc/v2/23777724048\\xa0 #Apple ',\n",
       " 'iPad Pro + Apple Pencil \\uf8ff Greenfix - Centro de Serviço Autorizado Apple #greenfix #apple em… https://www.instagram.com/p/BYOP4A-Fk_X/\\xa0']"
      ]
     },
     "execution_count": 42,
     "metadata": {},
     "output_type": "execute_result"
    }
   ],
   "source": [
    "twitterTweets(\"apple\", 10)"
   ]
  }
 ],
 "metadata": {
  "kernelspec": {
   "display_name": "Python 3",
   "language": "python",
   "name": "python3"
  },
  "language_info": {
   "codemirror_mode": {
    "name": "ipython",
    "version": 3
   },
   "file_extension": ".py",
   "mimetype": "text/x-python",
   "name": "python",
   "nbconvert_exporter": "python",
   "pygments_lexer": "ipython3",
   "version": "3.6.1"
  }
 },
 "nbformat": 4,
 "nbformat_minor": 2
}
