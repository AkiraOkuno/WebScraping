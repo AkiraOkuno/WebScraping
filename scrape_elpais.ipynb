{
 "cells": [
  {
   "cell_type": "code",
   "execution_count": 1,
   "metadata": {},
   "outputs": [],
   "source": [
    "from bs4 import BeautifulSoup\n",
    "from urllib.request import urlopen\n",
    "from selenium import webdriver\n",
    "import os\n",
    "import re\n",
    "import time\n",
    "import pandas as pd"
   ]
  },
  {
   "cell_type": "code",
   "execution_count": 2,
   "metadata": {
    "scrolled": true
   },
   "outputs": [],
   "source": [
    "url = urlopen('https://brasil.elpais.com/seccion/politica/1')\n",
    "bsObj =  BeautifulSoup(url, \"html.parser\" )"
   ]
  },
  {
   "cell_type": "code",
   "execution_count": 3,
   "metadata": {},
   "outputs": [],
   "source": [
    "tags = pd.read_csv(r'C:\\Users\\Helio\\Documents\\ALL THAT MATTERS\\IC\\txts\\elpais_tags.txt',header=None, sep=',')"
   ]
  },
  {
   "cell_type": "code",
   "execution_count": 4,
   "metadata": {},
   "outputs": [
    {
     "data": {
      "text/plain": [
       "'politica'"
      ]
     },
     "execution_count": 4,
     "metadata": {},
     "output_type": "execute_result"
    }
   ],
   "source": [
    "tags.iloc[1,0]"
   ]
  },
  {
   "cell_type": "code",
   "execution_count": 5,
   "metadata": {
    "scrolled": true
   },
   "outputs": [
    {
     "name": "stdout",
     "output_type": "stream",
     "text": [
      "https://brasil.elpais.com/seccion/internacional\n",
      "https://brasil.elpais.com/seccion/politica\n",
      "https://brasil.elpais.com/seccion/economia\n",
      "https://brasil.elpais.com/seccion/ciencia\n",
      "https://brasil.elpais.com/seccion/tecnologia\n",
      "https://brasil.elpais.com/seccion/cultura\n",
      "https://brasil.elpais.com/seccion/estilo\n",
      "https://brasil.elpais.com/seccion/deportes\n"
     ]
    }
   ],
   "source": [
    "for url in tags.iloc[:,1]:\n",
    "    print(url)"
   ]
  },
  {
   "cell_type": "code",
   "execution_count": null,
   "metadata": {
    "scrolled": true
   },
   "outputs": [],
   "source": [
    "list_url = []\n",
    "list_title = []\n",
    "list_news =[]\n",
    "list_type = []\n",
    "\n",
    "for url in tags.iloc[:,1][2:]:\n",
    "    \n",
    "    t = 0\n",
    "    k = 1\n",
    "    \n",
    "    while var == True:\n",
    "        time.sleep\n",
    "        link = url + '/' + str(k)\n",
    "\n",
    "        try:\n",
    "            read_url = urlopen(link)\n",
    "            bsObj =  BeautifulSoup(read_url, \"html.parser\" )\n",
    "        except:\n",
    "            var = False\n",
    "            continue\n",
    "       \n",
    "        try:\n",
    "            for obj in bsObj.findAll('h2',{'class':'articulo-titulo'}):\n",
    "                print(obj.getText())\n",
    "                list_title.append(obj.getText())\n",
    "\n",
    "                for link in obj.children:\n",
    "                        print('https:' + link.get('href'))\n",
    "                        list_url.append('https:' + link.get('href'))\n",
    "                        print(len(list_url)==len(list_title))\n",
    "        except:\n",
    "            continue\n",
    "            \n",
    "        k += 1\n",
    "        print(k)\n",
    "    t+=1\n",
    "    var = True\n",
    "    print(t)\n",
    "    \n",
    "\"\"\"                 \n",
    "        for link in list_url:\n",
    "            read_url = urlopen(link)\n",
    "            bsObj =  BeautifulSoup(read_url, \"html.parser\" )\n",
    "            for obj in bsObj.findAll('div',{'class':'articulo-cuerpo'}):\n",
    "                list_news.append(obj.getText())\n",
    "\"\"\"\n",
    "        #print(k)\n",
    "        #k += 1\n",
    "    #t += 1\n",
    "    #print(t)\n"
   ]
  },
  {
   "cell_type": "code",
   "execution_count": 130,
   "metadata": {},
   "outputs": [],
   "source": [
    "csv = pd.DataFrame()"
   ]
  },
  {
   "cell_type": "code",
   "execution_count": 131,
   "metadata": {},
   "outputs": [],
   "source": [
    "csv['title'] = list_title\n",
    "csv['url'] = list_url"
   ]
  },
  {
   "cell_type": "code",
   "execution_count": 132,
   "metadata": {},
   "outputs": [],
   "source": [
    "csv.to_csv('ElPais03.csv')"
   ]
  }
 ],
 "metadata": {
  "kernelspec": {
   "display_name": "Python 3",
   "language": "python",
   "name": "python3"
  },
  "language_info": {
   "codemirror_mode": {
    "name": "ipython",
    "version": 3
   },
   "file_extension": ".py",
   "mimetype": "text/x-python",
   "name": "python",
   "nbconvert_exporter": "python",
   "pygments_lexer": "ipython3",
   "version": "3.6.4"
  }
 },
 "nbformat": 4,
 "nbformat_minor": 2
}
