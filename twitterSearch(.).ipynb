{
 "cells": [
  {
   "cell_type": "code",
   "execution_count": 1,
   "metadata": {
    "collapsed": true
   },
   "outputs": [],
   "source": [
    "from bs4 import BeautifulSoup\n",
    "from urllib.request import urlopen\n",
    "\n",
    "#open url and transform into beatiful soup object\n",
    "def bs(url):\n",
    "    html = urlopen(url)\n",
    "    bsObj = BeautifulSoup(html.read(), \"html.parser\")\n",
    "    return(bsObj)"
   ]
  },
  {
   "cell_type": "code",
   "execution_count": 2,
   "metadata": {
    "collapsed": true
   },
   "outputs": [],
   "source": [
    "#gets the labels of twitter\n",
    "#tweets, seguindo, seguidores, curtidas\n",
    "\n",
    "def twitterList(bsObj):\n",
    "    TL = bsObj.findAll(\"span\",{\"class\":\"ProfileNav-label\"})\n",
    "    \n",
    "    chars = []\n",
    "    for char in TL:\n",
    "        chars.append(char.getText())\n",
    "    \n",
    "    return(chars)\n",
    "\n",
    "#first 4 elements\n",
    "\n",
    "def f4(list):\n",
    "    list = list[0:4]\n",
    "    return(list)"
   ]
  },
  {
   "cell_type": "code",
   "execution_count": 3,
   "metadata": {
    "collapsed": true
   },
   "outputs": [],
   "source": [
    "#gets the numerical info of twitter + coisas estranhas\n",
    "def twitterValues(bsObj):\n",
    "    TV = bsObj.findAll(\"span\",{\"class\":\"ProfileNav-value\"})\n",
    "    \n",
    "    values = []\n",
    "    \n",
    "    for value in TV:\n",
    "        values.append(value.getText())\n",
    "    \n",
    "    return(values)"
   ]
  },
  {
   "cell_type": "code",
   "execution_count": 4,
   "metadata": {
    "collapsed": true
   },
   "outputs": [],
   "source": [
    "#separates coisas estranhas and numerical info -> num. info\n",
    "\n",
    "def numTwitter(list):\n",
    "    \n",
    "    values1 = []\n",
    "    \n",
    "    for i in range(0, 4):\n",
    "        l=len(list[i])\n",
    "\n",
    "        a=\"\"\n",
    "\n",
    "        for j in range(0,l):\n",
    "            if list[i][j].isdigit() == True or list[i][j]=='.' or list[i][j]==',':\n",
    "                a = a + str(list[i][j])\n",
    "        values1.append(a)\n",
    "    \n",
    "    #verify presence of '.'\n",
    "    \n",
    "    values_point = []\n",
    "    for value in values1:\n",
    "        if value.find('.') == -1:\n",
    "            values_point.append(value)\n",
    "        else:\n",
    "            position = value.find('.')\n",
    "            new_value = value[0:position] + value[position+1:]\n",
    "            values_point.append(new_value)\n",
    "            \n",
    "    #verify presence of ','\n",
    "    values_comma = []\n",
    "    for value in values_point:\n",
    "        if value.find(',') == -1:\n",
    "            values_comma.append(value)\n",
    "        else:\n",
    "            position = value.find(',')\n",
    "            new_value = value[0:position] + value[position+1:]\n",
    "            values_comma.append(str(float(new_value)/10))\n",
    "    \n",
    "    return(values_comma)"
   ]
  },
  {
   "cell_type": "code",
   "execution_count": 5,
   "metadata": {
    "collapsed": true
   },
   "outputs": [],
   "source": [
    "#if 1000, multiplies 1000\n",
    "#tweets:32mil = 32.000\n",
    "#if 1.000.000, multiplies\n",
    "\n",
    "def multiplier(list_raw, list_num):\n",
    "    values2 = []\n",
    "    for i in range(0,4):\n",
    "        if list_raw[i].find('mil') != -1:\n",
    "            values2.append(float(list_num[i])*1000)\n",
    "        elif list_raw[i].find('mi') != -1:\n",
    "            values2.append(float(list_num[i])*1000000)\n",
    "        else:\n",
    "            values2.append(float(list_num[i]))\n",
    "\n",
    "            \n",
    "    return(values2) "
   ]
  },
  {
   "cell_type": "code",
   "execution_count": 6,
   "metadata": {
    "collapsed": true
   },
   "outputs": [],
   "source": [
    "#hora do pléu\n",
    "bsObj = bs(\"https://twitter.com/Applebees/\")\n",
    "labels = twitterList(bsObj)\n",
    "labels = f4(labels)\n",
    "\n",
    "values_raw = twitterValues(bsObj)\n",
    "values_num = numTwitter(values_raw)\n",
    "values_final = multiplier(values_raw, values_num)"
   ]
  },
  {
   "cell_type": "code",
   "execution_count": 7,
   "metadata": {
    "collapsed": true
   },
   "outputs": [],
   "source": [
    "bsObj = bs(\"https://twitter.com/Outback/\")\n",
    "labels = twitterList(bsObj)\n",
    "labels = f4(labels)\n",
    "\n",
    "values_raw = twitterValues(bsObj)\n",
    "values_num = numTwitter(values_raw)\n",
    "values_final = multiplier(values_raw, values_num)"
   ]
  },
  {
   "cell_type": "code",
   "execution_count": 8,
   "metadata": {},
   "outputs": [
    {
     "data": {
      "text/plain": [
       "[42600.0, 9714.0, 304000.0, 36200.0]"
      ]
     },
     "execution_count": 8,
     "metadata": {},
     "output_type": "execute_result"
    }
   ],
   "source": [
    "values_final"
   ]
  },
  {
   "cell_type": "code",
   "execution_count": 9,
   "metadata": {
    "collapsed": true
   },
   "outputs": [],
   "source": [
    "#função para a hora do pléu\n",
    "\n",
    "def twitterSearch(url):\n",
    "    bsObj = bs(url)\n",
    "    labels = f4(twitterList(bsObj))\n",
    "    \n",
    "    values_raw = twitterValues(bsObj)\n",
    "    values_num = numTwitter(values_raw)\n",
    "    values_final = multiplier(values_raw, values_num)\n",
    "    \n",
    "    dic = {}\n",
    "    for i in range(0, len(values_num)):\n",
    "        dic[labels[i]] = values_final [i]\n",
    "    \n",
    "    return(dic)"
   ]
  },
  {
   "cell_type": "code",
   "execution_count": 12,
   "metadata": {},
   "outputs": [
    {
     "data": {
      "text/plain": [
       "{'Curtidas': 13.0,\n",
       " 'Seguidores': 37100000.0,\n",
       " 'Seguindo': 45.0,\n",
       " 'Tweets': 35700.0}"
      ]
     },
     "execution_count": 12,
     "metadata": {},
     "output_type": "execute_result"
    }
   ],
   "source": [
    "twitterSearch(\"https://twitter.com/realDonaldTrump\")"
   ]
  },
  {
   "cell_type": "code",
   "execution_count": null,
   "metadata": {
    "collapsed": true
   },
   "outputs": [],
   "source": []
  }
 ],
 "metadata": {
  "kernelspec": {
   "display_name": "Python 3",
   "language": "python",
   "name": "python3"
  }
 },
 "nbformat": 4,
 "nbformat_minor": 2
}
